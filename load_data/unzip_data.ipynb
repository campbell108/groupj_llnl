{
 "cells": [
  {
   "cell_type": "markdown",
   "id": "778250fe-2af9-44ea-81e5-51fa05b219ff",
   "metadata": {},
   "source": [
    "# Unzip tarballs\n",
    "\n",
    "Convenience notebook to unzip input .tar.gz files into the full directories"
   ]
  },
  {
   "cell_type": "code",
   "execution_count": null,
   "id": "3ca19285-b099-4226-95b3-a7a34242bc40",
   "metadata": {
    "tags": []
   },
   "outputs": [],
   "source": [
    "import tarfile\n",
    "from pathlib import Path\n",
    "from tqdm.notebook import tqdm"
   ]
  },
  {
   "cell_type": "code",
   "execution_count": null,
   "id": "78fe0393-d8bd-492e-b0e9-50d482a2fdc5",
   "metadata": {
    "tags": []
   },
   "outputs": [],
   "source": [
    "def expand_tar(tar_gz_file, destination_folder):\n",
    "\n",
    "    # Define the destination directory for extraction\n",
    "    # destination_folder = str(tar_gz_file.parent)\n",
    "\n",
    "    try:\n",
    "        # Open the .tar.gz file in read mode ('r:gz' for gzipped tar archives)\n",
    "        with tarfile.open(tar_gz_file, 'r:gz') as tar:\n",
    "            # Extract all contents to the specified destination folder\n",
    "            tar.extractall(destination_folder)\n",
    "        print(f\"Successfully extracted '{tar_gz_file}' to '{destination_folder}'\")\n",
    "    except tarfile.ReadError as e:\n",
    "        print(f\"Error reading tar.gz file: {e}\")\n",
    "    except FileNotFoundError:\n",
    "        print(f\"Error: The file '{tar_gz_file}' was not found.\")\n",
    "    except Exception as e:\n",
    "        print(f\"An unexpected error occurred: {e}\")\n",
    "    return"
   ]
  },
  {
   "cell_type": "code",
   "execution_count": null,
   "id": "50ea0392-0961-4232-9725-48e99b09ac5c",
   "metadata": {
    "tags": []
   },
   "outputs": [],
   "source": [
    "test_files=list(sorted(Path(\"test_tar\").glob(\"*.tar.gz\")))\n",
    "test_files"
   ]
  },
  {
   "cell_type": "code",
   "execution_count": null,
   "id": "1151422b-5a7e-40e9-875e-fae987e8054f",
   "metadata": {
    "tags": []
   },
   "outputs": [],
   "source": [
    "completed = []"
   ]
  },
  {
   "cell_type": "code",
   "execution_count": null,
   "id": "1493715b-0782-4abe-875d-56a92839e14b",
   "metadata": {
    "tags": []
   },
   "outputs": [],
   "source": [
    "print(\"completed\", completed)\n",
    "for file in tqdm(test_files):\n",
    "    if file not in completed:\n",
    "        try:\n",
    "            expand_tar(file, destination_folder='test')\n",
    "            completed.append(file)\n",
    "        except Exception as e:\n",
    "            print(f\"Error in unzipping {str(file)}: {e}\")\n",
    "    else:\n",
    "        continue"
   ]
  }
 ],
 "metadata": {
  "kernelspec": {
   "display_name": "dscenv",
   "language": "python",
   "name": "dsc_env"
  },
  "language_info": {
   "codemirror_mode": {
    "name": "ipython",
    "version": 3
   },
   "file_extension": ".py",
   "mimetype": "text/x-python",
   "name": "python",
   "nbconvert_exporter": "python",
   "pygments_lexer": "ipython3",
   "version": "3.9.12"
  }
 },
 "nbformat": 4,
 "nbformat_minor": 5
}
