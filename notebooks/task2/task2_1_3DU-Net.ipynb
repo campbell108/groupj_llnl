{
  "nbformat": 4,
  "nbformat_minor": 0,
  "metadata": {
    "colab": {
      "provenance": []
    },
    "kernelspec": {
      "name": "python3",
      "display_name": "Python 3"
    },
    "language_info": {
      "name": "python"
    }
  },
  "cells": [
    {
      "cell_type": "code",
      "execution_count": null,
      "metadata": {
        "id": "n7vBPJekZmzF"
      },
      "outputs": [],
      "source": []
    },
    {
      "cell_type": "code",
      "source": [
        "import torch\n",
        "import torch.nn as nn\n",
        "import torch.nn.functional as F\n",
        "from torch.utils.data import Dataset, DataLoader, random_split\n",
        "from torchvision.transforms import ToTensor\n",
        "from pathlib import Path\n",
        "from PIL import Image\n",
        "import numpy as np"
      ],
      "metadata": {
        "id": "7LfA-mChnQ1_"
      },
      "execution_count": null,
      "outputs": []
    },
    {
      "cell_type": "code",
      "source": [
        "#custom pythorch dataset for video-based modal to amodal mask prediction\n",
        "\n",
        "class VideoModalToAmodalDataset(Dataset):\n",
        "    def __init__(self, sample_dir, num_frames=24):\n",
        "        self.sample_dir = Path(sample_dir)\n",
        "        # organize images into a nested dictionary structure by camera and object\n",
        "        self.sample_dict = self.get_sample_dict(self.sample_dir)\n",
        "        # sorted list of all camera folders\n",
        "        self.cameras = sorted([p.name for p in self.sample_dir.glob(\"camera_*\")])\n",
        "        # a list of object IDs from the first camera folder (all camera folders have the same obj)\n",
        "        self.obj_ids = [x for x in self.sample_dict[self.cameras[0]] if 'obj_' in x]\n",
        "        self.num_frames = num_frames  # how many frames to load per video sequence\n",
        "\n",
        "    def __len__(self):  # total number of samples:  number of cameras × number of objects. Each sample=entire video\n",
        "        return len(self.obj_ids) * len(self.cameras)\n",
        "\n",
        "    def __getitem__(self, idx):  # convert flat index into camera and obj indices\n",
        "        cam_idx = idx // len(self.obj_ids) # which camera this index corrosponds to, eg: if there are 3 objects and idx=4, then cam_idx is 1 (seconodn camera)\n",
        "        obj_idx = idx % len(self.obj_ids) # which object to load for this index, same concept as above.\n",
        "\n",
        "        cam_name = self.cameras[cam_idx]\n",
        "        obj_id = self.obj_ids[obj_idx]\n",
        "\n",
        "        rgb_seq = [] # will hold 24 input frames (each frame is RGB + modal mask, so 4 channels)\n",
        "         # get paths for the current frame: RGB image, modal segmentation, and amodal segmentation\n",
        "        for frame_idx in range(self.num_frames): # loop over all frames in the video\n",
        "            rgb_path = self.sample_dict[cam_name]['scene']['rgba'][frame_idx]\n",
        "            modal_path = self.sample_dict[cam_name]['scene'['segmentation'][frame_idx]\n",
        "            amodal_path = self.sample_dict[cam_name][obj_id]['segmentation'][frame_idx]\n",
        "\n",
        "            rgb = ToTensor()(Image.open(rgb_path).convert('RGB')) # convert img to tensor ( 3,256,256)\n",
        "            modal_np = np.array(Image.open(modal_path))  # load modal segmentation mask as np.array\n",
        "            # get the obj index as integer ( 'obj_0002' -> 2)\n",
        "            obj_int = int(obj_id.split('_')[1])\n",
        "            # make binary mask for object_int, if pixel matches obj ID then is 1.\n",
        "            modal_mask = torch.tensor((modal_np == obj_int).astype(np.float32)).unsqueeze(0)\n",
        "            # combine RGB and modal mask into a single 4-channel tensor\n",
        "            input_frame = torch.cat((rgb, modal_mask), dim=0)  # (4, 256, 256)\n",
        "            rgb_seq.append(input_frame)\n",
        "\n",
        "        video_tensor = torch.stack(rgb_seq)  # stack list into a tensor (24, 4, 256, 256)\n",
        "        video_tensor = video_tensor.permute(1, 0, 2, 3)  # rearrange dim to : (4 channels, 24 frames, 256, 256)\n",
        "         # load the last amodal mask and normalize all pixel values to [0, 1] bc nerual network expect inputs and outputs to be in range [0,1]\n",
        "        amodal_mask_np = np.array(Image.open(amodal_path).convert('L')) / 255.0 # 'L' is grayscale\n",
        "         # convert to tensor and add channel dimension: (1, 256, 256)\n",
        "        amodal_mask = torch.tensor(amodal_mask_np, dtype=torch.float32).unsqueeze(0)\n",
        "\n",
        "        return video_tensor, amodal_mask # return video seq as input and amodal mask as target\n",
        "\n",
        "    def get_sample_dict(self, sample_dir):\n",
        "        def get_img_dict(img_dir):\n",
        "            img_files = list(img_dir.glob(\"*.png\")) + list(img_dir.glob(\"*.tiff\"))\n",
        "            img_files.sort()\n",
        "            img_dict = {}\n",
        "            for f in img_files:\n",
        "                key = f.name.split('_')[0]\n",
        "                img_dict.setdefault(key, []).append(f)\n",
        "            return img_dict\n",
        "\n",
        "        sample_dict = {}  #build  nested dictionary: camera → scene & object segmentations\n",
        "        for cam_dir in sorted(sample_dir.glob(\"camera_*\")):\n",
        "            cam_dict = {'scene': get_img_dict(cam_dir)}  # add scence level files\n",
        "            for obj_dir in sorted(cam_dir.glob(\"obj_*\")):\n",
        "                cam_dict[obj_dir.name] = get_img_dict(obj_dir) # add obj segmentations\n",
        "            sample_dict[cam_dir.name] = cam_dict\n",
        "        return sample_dict\n"
      ],
      "metadata": {
        "id": "e7xkvaHNnQ53"
      },
      "execution_count": null,
      "outputs": []
    },
    {
      "cell_type": "code",
      "source": [
        "# instead of using the default collate we use custom collate to batch multiple input-target pairs together,\n",
        "# this way we ensure correct batch shape\n",
        "def custom_collate(batch):\n",
        "    # unpack the batch into two tuples: one with all inputs, one with all targets\n",
        "    # batch = [(input1, target1), (input2, target2), ...]\n",
        "    inputs, targets = zip(*batch)\n",
        "    inputs = torch.stack(inputs) # stack all input tensors into a single batch tensor of shape (B, C, D, H, W), c=channel, D= depth or time (nube of frames in video)\n",
        "    targets = torch.stack(targets) # stack all target amodal masks into a single tensor of shape (B, 1, H, W). B=batch size( number of samples in a batch)\n",
        "    return inputs, targets"
      ],
      "metadata": {
        "id": "xmlnF7uVnQ9u"
      },
      "execution_count": null,
      "outputs": []
    },
    {
      "cell_type": "code",
      "source": [
        "# define a 3D unet architecture\n",
        "# each blocks follows this patters: Conv3D → BatchNorm3D → ReLU → Conv3D → BatchNorm3D → ReLU\n",
        "class DoubleConv3D(nn.Module):# double: two conv layers in a row- to learn more complexity.\n",
        "    def __init__(self, in_ch, out_ch):  # in_ch = number of input channels, out_ch = number of output channels\n",
        "        super().__init__()\n",
        "        self.conv = nn.Sequential(\n",
        "            nn.Conv3d(in_ch, out_ch, kernel_size=3, padding=1), # first 3d convolution layer\n",
        "            nn.BatchNorm3d(out_ch), # Since we are working with video or 3D volumes .normalize output\n",
        "            nn.ReLU(inplace=True),# apply non-linear activation function\n",
        "            nn.Conv3d(out_ch, out_ch, kernel_size=3, padding=1),# second 3d conolution layer\n",
        "            nn.BatchNorm3d(out_ch), # normalize output again.\n",
        "            nn.ReLU(inplace=True) # ReLU (Rectified Linear Unit) activation function, itvadds nonlinearity to the mode.\n",
        "        )\n",
        "\n",
        "    def forward(self, x):\n",
        "        return self.conv(x)"
      ],
      "metadata": {
        "id": "Vktx6A88O71l"
      },
      "execution_count": null,
      "outputs": []
    },
    {
      "cell_type": "code",
      "source": [
        "# use DoubleConv3D inside UNet3D\n",
        "# 3D Unet adapted for video-based segmentation\n",
        "class UNet3D(nn.Module):\n",
        "    def __init__(self, in_channels=4, out_channels=1): # 3 RGB + 1 modal mask as input.Output: a 1-channel amodal mask.\n",
        "        super().__init__()\n",
        "        # Encoder: downsample path or contract\n",
        "        self.enc1 = DoubleConv3D(in_channels, 32) # first encoding block- learns low-level feature: like edges, corners..\n",
        "        self.pool1 = nn.MaxPool3d(2) # reduces spatial and temporal size by half (stride 2).\n",
        "        self.enc2 = DoubleConv3D(32, 64) # second encoding block- learns more abstract features\n",
        "        self.pool2 = nn.MaxPool3d(2) # downsampling again to reduce complexity.\n",
        "\n",
        "        self.bottleneck = DoubleConv3D(64, 128) # deepst laters or central processign layer.Learns the global structure after downsampling.\n",
        "        # decoder: upsamples (doubles) resolution to reverse pooling\n",
        "        self.up2 = nn.ConvTranspose3d(128, 64, kernel_size=2, stride=2)\n",
        "        self.dec2 = DoubleConv3D(128, 64)\n",
        "        self.up1 = nn.ConvTranspose3d(64, 32, kernel_size=2, stride=2)\n",
        "        self.dec1 = DoubleConv3D(64, 32)\n",
        "\n",
        "        self.out_conv = nn.Conv3d(32, out_channels, kernel_size=1)\n",
        "\n",
        "    def forward(self, x):\n",
        "        e1 = self.enc1(x)\n",
        "        p1 = self.pool1(e1)\n",
        "        e2 = self.enc2(p1)\n",
        "        p2 = self.pool2(e2)\n",
        "\n",
        "        b = self.bottleneck(p2)\n",
        "\n",
        "        u2 = self.up2(b)\n",
        "        d2 = self.dec2(torch.cat([u2, e2], dim=1))\n",
        "\n",
        "        u1 = self.up1(d2)\n",
        "        d1 = self.dec1(torch.cat([u1, e1], dim=1))\n",
        "\n",
        "        out = self.out_conv(d1)  # final ouput layer\n",
        "        return out.mean(dim=2)  # dim=2 bc we need a 2d amodal mask\n"
      ],
      "metadata": {
        "id": "mrhkQNLpO76U"
      },
      "execution_count": null,
      "outputs": []
    },
    {
      "cell_type": "code",
      "source": [
        "sample_dir = \"ff5da6d6ecae486bb294aeaf5ee8f8a1\"\n",
        "dataset = VideoModalToAmodalDataset(sample_dir)\n",
        "train_size = int(0.8 * len(dataset))\n",
        "test_size = len(dataset) - train_size\n",
        "train_dataset, test_dataset = random_split(dataset, [train_size, test_size])\n",
        "# Note for Team: currnly batch size is 1 for debuggin purposees during intitia development but\n",
        "# once model stables and memory allows we can increase this\n",
        "train_loader = DataLoader(train_dataset, batch_size=1, shuffle=True, collate_fn=custom_collate) #batch size =1 for debugging purpose\n",
        "test_loader = DataLoader(test_dataset, batch_size=1, shuffle=False, collate_fn=custom_collate)\n"
      ],
      "metadata": {
        "id": "1plglpv1O7-9"
      },
      "execution_count": null,
      "outputs": []
    },
    {
      "cell_type": "code",
      "source": [
        "# for the purpose of debugging- not required for trainign\n",
        "from pathlib import Path\n",
        "\n",
        "sample_dir = Path(\"ff5da6d6ecae486bb294aeaf5ee8f8a1\")\n",
        "print(\"Folders in sample_dir:\")\n",
        "for item in sample_dir.iterdir():\n",
        "    print(\" -\", item.name)\n",
        "\n"
      ],
      "metadata": {
        "colab": {
          "base_uri": "https://localhost:8080/"
        },
        "id": "yKRsjzpePnwY",
        "outputId": "543ff570-7311-478e-fd68-71067f1b6dd8"
      },
      "execution_count": null,
      "outputs": [
        {
          "output_type": "stream",
          "name": "stdout",
          "text": [
            "Folders in sample_dir:\n",
            " - camera_0003\n",
            " - camera_0000\n",
            " - camera_0001\n",
            " - camera_0005\n",
            " - camera_0002\n",
            " - camera_0004\n"
          ]
        }
      ]
    },
    {
      "cell_type": "code",
      "source": [
        "device = torch.device(\"cuda\" if torch.cuda.is_available() else \"cpu\")\n",
        "model = UNet3D(in_channels=4, out_channels=1).to(device)\n",
        "loss_fn = nn.BCELoss()\n",
        "optimizer = torch.optim.Adam(model.parameters(), lr=1e-3)"
      ],
      "metadata": {
        "id": "ck0T9dcJO8DH"
      },
      "execution_count": null,
      "outputs": []
    },
    {
      "cell_type": "code",
      "source": [
        "import torch.nn as nn\n",
        "\n",
        "# BCEWithLogitsLoss (handles sigmoid internally)- this was also used in Amar's code.\n",
        "loss_fn = nn.BCEWithLogitsLoss()\n",
        "\n",
        "model.train()\n",
        "for epoch in range(1):  # YOU CAN INCREAE THIS LATER\n",
        "    for inputs, targets in train_loader:\n",
        "        inputs, targets = inputs.to(device), targets.to(device)\n",
        "\n",
        "        print(\"Input shape (batched):\", inputs.shape)  # Expect [B, 4, 24, 256, 256]\n",
        "\n",
        "        preds = model(inputs)             # Raw logits\n",
        "        loss = loss_fn(preds, targets)    # No sigmoid here\n",
        "\n",
        "        optimizer.zero_grad()\n",
        "        loss.backward()\n",
        "        optimizer.step()\n",
        "\n",
        "        # To the team:  Can be removed or disabled once training is stable and memory is not an issue.\n",
        "        torch.cuda.empty_cache()\n"
      ],
      "metadata": {
        "colab": {
          "base_uri": "https://localhost:8080/"
        },
        "id": "-XZc9B8YXBef",
        "outputId": "839d95b1-95b0-4967-a675-edf5973a42f6"
      },
      "execution_count": null,
      "outputs": [
        {
          "output_type": "stream",
          "name": "stdout",
          "text": [
            "Input shape (batched): torch.Size([1, 4, 24, 256, 256])\n",
            "Input shape (batched): torch.Size([1, 4, 24, 256, 256])\n",
            "Input shape (batched): torch.Size([1, 4, 24, 256, 256])\n",
            "Input shape (batched): torch.Size([1, 4, 24, 256, 256])\n",
            "Input shape (batched): torch.Size([1, 4, 24, 256, 256])\n",
            "Input shape (batched): torch.Size([1, 4, 24, 256, 256])\n",
            "Input shape (batched): torch.Size([1, 4, 24, 256, 256])\n",
            "Input shape (batched): torch.Size([1, 4, 24, 256, 256])\n",
            "Input shape (batched): torch.Size([1, 4, 24, 256, 256])\n",
            "Input shape (batched): torch.Size([1, 4, 24, 256, 256])\n",
            "Input shape (batched): torch.Size([1, 4, 24, 256, 256])\n",
            "Input shape (batched): torch.Size([1, 4, 24, 256, 256])\n",
            "Input shape (batched): torch.Size([1, 4, 24, 256, 256])\n",
            "Input shape (batched): torch.Size([1, 4, 24, 256, 256])\n",
            "Input shape (batched): torch.Size([1, 4, 24, 256, 256])\n",
            "Input shape (batched): torch.Size([1, 4, 24, 256, 256])\n",
            "Input shape (batched): torch.Size([1, 4, 24, 256, 256])\n",
            "Input shape (batched): torch.Size([1, 4, 24, 256, 256])\n",
            "Input shape (batched): torch.Size([1, 4, 24, 256, 256])\n",
            "Input shape (batched): torch.Size([1, 4, 24, 256, 256])\n",
            "Input shape (batched): torch.Size([1, 4, 24, 256, 256])\n",
            "Input shape (batched): torch.Size([1, 4, 24, 256, 256])\n",
            "Input shape (batched): torch.Size([1, 4, 24, 256, 256])\n",
            "Input shape (batched): torch.Size([1, 4, 24, 256, 256])\n",
            "Input shape (batched): torch.Size([1, 4, 24, 256, 256])\n",
            "Input shape (batched): torch.Size([1, 4, 24, 256, 256])\n",
            "Input shape (batched): torch.Size([1, 4, 24, 256, 256])\n",
            "Input shape (batched): torch.Size([1, 4, 24, 256, 256])\n",
            "Input shape (batched): torch.Size([1, 4, 24, 256, 256])\n",
            "Input shape (batched): torch.Size([1, 4, 24, 256, 256])\n",
            "Input shape (batched): torch.Size([1, 4, 24, 256, 256])\n",
            "Input shape (batched): torch.Size([1, 4, 24, 256, 256])\n",
            "Input shape (batched): torch.Size([1, 4, 24, 256, 256])\n",
            "Input shape (batched): torch.Size([1, 4, 24, 256, 256])\n",
            "Input shape (batched): torch.Size([1, 4, 24, 256, 256])\n",
            "Input shape (batched): torch.Size([1, 4, 24, 256, 256])\n",
            "Input shape (batched): torch.Size([1, 4, 24, 256, 256])\n",
            "Input shape (batched): torch.Size([1, 4, 24, 256, 256])\n",
            "Input shape (batched): torch.Size([1, 4, 24, 256, 256])\n",
            "Input shape (batched): torch.Size([1, 4, 24, 256, 256])\n",
            "Input shape (batched): torch.Size([1, 4, 24, 256, 256])\n",
            "Input shape (batched): torch.Size([1, 4, 24, 256, 256])\n",
            "Input shape (batched): torch.Size([1, 4, 24, 256, 256])\n",
            "Input shape (batched): torch.Size([1, 4, 24, 256, 256])\n",
            "Input shape (batched): torch.Size([1, 4, 24, 256, 256])\n",
            "Input shape (batched): torch.Size([1, 4, 24, 256, 256])\n",
            "Input shape (batched): torch.Size([1, 4, 24, 256, 256])\n",
            "Input shape (batched): torch.Size([1, 4, 24, 256, 256])\n",
            "Input shape (batched): torch.Size([1, 4, 24, 256, 256])\n",
            "Input shape (batched): torch.Size([1, 4, 24, 256, 256])\n",
            "Input shape (batched): torch.Size([1, 4, 24, 256, 256])\n",
            "Input shape (batched): torch.Size([1, 4, 24, 256, 256])\n",
            "Input shape (batched): torch.Size([1, 4, 24, 256, 256])\n",
            "Input shape (batched): torch.Size([1, 4, 24, 256, 256])\n",
            "Input shape (batched): torch.Size([1, 4, 24, 256, 256])\n",
            "Input shape (batched): torch.Size([1, 4, 24, 256, 256])\n",
            "Input shape (batched): torch.Size([1, 4, 24, 256, 256])\n",
            "Input shape (batched): torch.Size([1, 4, 24, 256, 256])\n",
            "Input shape (batched): torch.Size([1, 4, 24, 256, 256])\n",
            "Input shape (batched): torch.Size([1, 4, 24, 256, 256])\n",
            "Input shape (batched): torch.Size([1, 4, 24, 256, 256])\n",
            "Input shape (batched): torch.Size([1, 4, 24, 256, 256])\n",
            "Input shape (batched): torch.Size([1, 4, 24, 256, 256])\n",
            "Input shape (batched): torch.Size([1, 4, 24, 256, 256])\n",
            "Input shape (batched): torch.Size([1, 4, 24, 256, 256])\n",
            "Input shape (batched): torch.Size([1, 4, 24, 256, 256])\n",
            "Input shape (batched): torch.Size([1, 4, 24, 256, 256])\n",
            "Input shape (batched): torch.Size([1, 4, 24, 256, 256])\n",
            "Input shape (batched): torch.Size([1, 4, 24, 256, 256])\n",
            "Input shape (batched): torch.Size([1, 4, 24, 256, 256])\n",
            "Input shape (batched): torch.Size([1, 4, 24, 256, 256])\n",
            "Input shape (batched): torch.Size([1, 4, 24, 256, 256])\n",
            "Input shape (batched): torch.Size([1, 4, 24, 256, 256])\n",
            "Input shape (batched): torch.Size([1, 4, 24, 256, 256])\n",
            "Input shape (batched): torch.Size([1, 4, 24, 256, 256])\n",
            "Input shape (batched): torch.Size([1, 4, 24, 256, 256])\n",
            "Input shape (batched): torch.Size([1, 4, 24, 256, 256])\n",
            "Input shape (batched): torch.Size([1, 4, 24, 256, 256])\n",
            "Input shape (batched): torch.Size([1, 4, 24, 256, 256])\n",
            "Input shape (batched): torch.Size([1, 4, 24, 256, 256])\n",
            "Input shape (batched): torch.Size([1, 4, 24, 256, 256])\n",
            "Input shape (batched): torch.Size([1, 4, 24, 256, 256])\n",
            "Input shape (batched): torch.Size([1, 4, 24, 256, 256])\n",
            "Input shape (batched): torch.Size([1, 4, 24, 256, 256])\n",
            "Input shape (batched): torch.Size([1, 4, 24, 256, 256])\n",
            "Input shape (batched): torch.Size([1, 4, 24, 256, 256])\n",
            "Input shape (batched): torch.Size([1, 4, 24, 256, 256])\n",
            "Input shape (batched): torch.Size([1, 4, 24, 256, 256])\n",
            "Input shape (batched): torch.Size([1, 4, 24, 256, 256])\n",
            "Input shape (batched): torch.Size([1, 4, 24, 256, 256])\n",
            "Input shape (batched): torch.Size([1, 4, 24, 256, 256])\n"
          ]
        }
      ]
    },
    {
      "cell_type": "code",
      "source": [
        "model.eval()\n",
        "total_loss = 0.0\n",
        "\n",
        "with torch.no_grad(): # disable gradient tracking for faster evaluation and lower memory usage\n",
        "    for inputs, targets in test_loader:\n",
        "        inputs, targets = inputs.to(device), targets.to(device)\n",
        "\n",
        "        preds = model(inputs)              # raw logits\n",
        "        loss = loss_fn(preds, targets)     # BCEWithLogitsLoss expects raw logits\n",
        "        total_loss += loss.item()\n",
        "\n",
        "avg_test_loss = total_loss / len(test_loader)\n",
        "print(f\"Average Test Loss: {avg_test_loss:.4f}\")\n",
        "\n",
        "# Note to team:\n",
        "# The test loss may appear high initially due to:\n",
        "#  1- Low number of training epochs (currently just 1)\n",
        "#  2- Small batch size (currently set to 1 for debugging)\n",
        "#  3- Possible model underfitting or data imbalance\n",
        "# We expect test loss to improve with:\n",
        "#  1- More training epochs\n",
        "# 2 - Larger batch sizes (e.g., 4 or 8, depending on memory limits)\n"
      ],
      "metadata": {
        "colab": {
          "base_uri": "https://localhost:8080/"
        },
        "id": "kZON1cm_XBi1",
        "outputId": "87f878cb-093b-4b8f-b516-4a1d6664f00a"
      },
      "execution_count": null,
      "outputs": [
        {
          "output_type": "stream",
          "name": "stdout",
          "text": [
            "Average Test Loss: 0.7049\n"
          ]
        }
      ]
    },
    {
      "cell_type": "code",
      "source": [
        "import matplotlib.pyplot as plt\n",
        "\n",
        "model.eval()\n",
        "with torch.no_grad(): # get one batch of test data (batch size = 1 for debugging puprpose)\n",
        "    inputs, targets = next(iter(test_loader))\n",
        "    inputs, targets = inputs.to(device), targets.to(device)\n",
        "    preds = model(inputs)  # get model predictions (logits) on the test input\n",
        "\n",
        "idx = 0\n",
        "input_modal = inputs[idx, 3, -1].cpu().numpy()  # last frame, modal mask\n",
        "true_amodal = targets[idx, 0].cpu().numpy()\n",
        "# or should it be:?\n",
        "# pred_amodal = torch.sigmoid(preds[idx, 0]).cpu().numpy()\n",
        "\n",
        "pred_amodal = preds[idx, 0].cpu().numpy()\n",
        "\n",
        "plt.figure(figsize=(12, 4))\n",
        "plt.subplot(1, 3, 1)\n",
        "plt.title(\"Input Modal Mask (last frame)\")\n",
        "plt.imshow(input_modal, cmap='gray')\n",
        "plt.subplot(1, 3, 2)\n",
        "plt.title(\"True Amodal Mask\")\n",
        "plt.imshow(true_amodal, cmap='gray')\n",
        "plt.subplot(1, 3, 3)\n",
        "plt.title(\"Predicted Amodal Mask\")\n",
        "plt.imshow(pred_amodal, cmap='gray')\n",
        "plt.show()\n"
      ],
      "metadata": {
        "id": "4SWzcexiSkgy",
        "colab": {
          "base_uri": "https://localhost:8080/",
          "height": 356
        },
        "outputId": "b1605352-0a31-4ee6-89cb-1143e234dfeb"
      },
      "execution_count": null,
      "outputs": [
        {
          "output_type": "display_data",
          "data": {
            "text/plain": [
              "<Figure size 1200x400 with 3 Axes>"
            ],
            "image/png": "[encoded data removed]"
          },
          "metadata": {}
        }
      ]
    }
  ]
}