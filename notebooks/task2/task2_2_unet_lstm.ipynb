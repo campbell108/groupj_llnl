{
 "cells": [
  {
   "cell_type": "markdown",
   "id": "dd6fd0c8",
   "metadata": {},
   "source": [
    "# Task 2.2: (Video-based) Modal Content (RGB) -> Amodal Content (RGB)\n",
    "\n",
    "“Given a video of the modal RGB content of an object, predict the amodal RGB content\n",
    "of the same object”\n",
    "“Can use the amodal masks of that object”\n",
    "\n",
    "\n",
    "Inputs:\n",
    "- N RGB Frames - N 3-channel images (N, 3, 256, 256)\n",
    "- N Amodal Masks of Object i - N Binary (1-channel) images (N, 1, 256, 256)\n",
    "- N RGB Contents of Object i - N 3-channel images (N, 3, 256, 256)\n",
    "- Use the object’s modal mask to “crop out” the RGB content of object i - Optional to use?\n",
    "\n",
    "Outputs:\n",
    "- N Amodal RGB Contents of Object i - N 3-channel images (N, 3, 256, 256)"
   ]
  },
  {
   "cell_type": "markdown",
   "id": "33b258de",
   "metadata": {},
   "source": []
  }
 ],
 "metadata": {
  "language_info": {
   "name": "python"
  }
 },
 "nbformat": 4,
 "nbformat_minor": 5
}
